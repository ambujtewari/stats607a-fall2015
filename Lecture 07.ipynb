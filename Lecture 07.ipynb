{
 "cells": [
  {
   "cell_type": "markdown",
   "metadata": {},
   "source": [
    "Today we'll cover:\n",
    "\n",
    "1. [Optimization and root finding](#Optimization-and-root-finding)\n",
    "2. [Special functions](#Special-functions)\n",
    "3. [Statistical functions](#Statistical-functions)"
   ]
  },
  {
   "cell_type": "markdown",
   "metadata": {},
   "source": [
    "# Optimization and root finding"
   ]
  },
  {
   "cell_type": "code",
   "execution_count": 1,
   "metadata": {
    "collapsed": false
   },
   "outputs": [],
   "source": [
    "import numpy as np"
   ]
  },
  {
   "cell_type": "code",
   "execution_count": 2,
   "metadata": {
    "collapsed": false
   },
   "outputs": [],
   "source": [
    "from numpy import linalg as LA"
   ]
  },
  {
   "cell_type": "code",
   "execution_count": 3,
   "metadata": {
    "collapsed": false
   },
   "outputs": [],
   "source": [
    "from scipy.optimize import minimize, rosen"
   ]
  },
  {
   "cell_type": "code",
   "execution_count": 4,
   "metadata": {
    "collapsed": false
   },
   "outputs": [],
   "source": [
    "x0 = np.array([1.3, 0.7, 0.8, 1.9, 1.2])"
   ]
  },
  {
   "cell_type": "markdown",
   "metadata": {},
   "source": [
    "Let us run a simple [derivative free optimization](http://dx.doi.org/10.1137/1.9780898718768) method, called the [Nelder-Mead method](http://en.wikipedia.org/wiki/Nelder%E2%80%93Mead_method), starting from the above point `x0`. The function we will minimize is a popular test case in the optimization literature: the [Rosenbrock function](http://en.wikipedia.org/wiki/Rosenbrock_function)."
   ]
  },
  {
   "cell_type": "code",
   "execution_count": 5,
   "metadata": {
    "collapsed": false
   },
   "outputs": [
    {
     "name": "stdout",
     "output_type": "stream",
     "text": [
      "Optimization terminated successfully.\n",
      "         Current function value: 0.000000\n",
      "         Iterations: 339\n",
      "         Function evaluations: 571\n"
     ]
    }
   ],
   "source": [
    "res = minimize(rosen, x0, method='nelder-mead',\n",
    "               options={'xtol': 1e-8, 'disp': True})"
   ]
  },
  {
   "cell_type": "code",
   "execution_count": 6,
   "metadata": {
    "collapsed": false
   },
   "outputs": [
    {
     "name": "stdout",
     "output_type": "stream",
     "text": [
      "[ 1.  1.  1.  1.  1.]\n"
     ]
    }
   ],
   "source": [
    "print res.x  # print the minimizer found"
   ]
  },
  {
   "cell_type": "code",
   "execution_count": 7,
   "metadata": {
    "collapsed": false
   },
   "outputs": [
    {
     "name": "stdout",
     "output_type": "stream",
     "text": [
      "  status: 0\n",
      "    nfev: 571\n",
      " success: True\n",
      "     fun: 4.8611534334221152e-17\n",
      "       x: array([ 1.,  1.,  1.,  1.,  1.])\n",
      " message: 'Optimization terminated successfully.'\n",
      "     nit: 339\n"
     ]
    }
   ],
   "source": [
    "print res  # res is an object with many fields"
   ]
  },
  {
   "cell_type": "markdown",
   "metadata": {},
   "source": [
    "Let us try another deriviative free method called [Powell's Method](http://dx.doi.org/10.1093/comjnl/7.2.155). We will again use the Rosenbrock function for testing."
   ]
  },
  {
   "cell_type": "code",
   "execution_count": 8,
   "metadata": {
    "collapsed": false
   },
   "outputs": [
    {
     "name": "stdout",
     "output_type": "stream",
     "text": [
      "Optimization terminated successfully.\n",
      "         Current function value: 0.000000\n",
      "         Iterations: 19\n",
      "         Function evaluations: 1622\n"
     ]
    }
   ],
   "source": [
    "res = minimize(rosen, x0, method='powell',\n",
    "               options={'xtol': 1e-8, 'disp': True})"
   ]
  },
  {
   "cell_type": "code",
   "execution_count": 9,
   "metadata": {
    "collapsed": false
   },
   "outputs": [
    {
     "name": "stdout",
     "output_type": "stream",
     "text": [
      "[ 1.  1.  1.  1.  1.]\n"
     ]
    }
   ],
   "source": [
    "print res.x"
   ]
  },
  {
   "cell_type": "code",
   "execution_count": 10,
   "metadata": {
    "collapsed": false
   },
   "outputs": [
    {
     "name": "stdout",
     "output_type": "stream",
     "text": [
      "  status: 0\n",
      " success: True\n",
      "   direc: array([[  1.59217495e-06,   1.43301633e-06,   4.65187663e-06,\n",
      "          9.58520273e-06,   2.09783685e-05],\n",
      "       [ -5.72229228e-04,  -8.96827101e-04,  -2.05165897e-03,\n",
      "         -4.12621496e-03,  -7.47022249e-03],\n",
      "       [  0.00000000e+00,   0.00000000e+00,   1.00000000e+00,\n",
      "          0.00000000e+00,   0.00000000e+00],\n",
      "       [ -6.33752967e-03,  -3.93431060e-03,  -1.22576639e-03,\n",
      "          4.95313151e-05,   1.18066443e-04],\n",
      "       [  3.39029104e-08,   7.58841519e-08,   1.38160426e-07,\n",
      "          2.56876108e-07,   5.19973682e-07]])\n",
      "    nfev: 1622\n",
      "     fun: 2.0864733021357032e-21\n",
      "       x: array([ 1.,  1.,  1.,  1.,  1.])\n",
      " message: 'Optimization terminated successfully.'\n",
      "     nit: 19\n"
     ]
    }
   ],
   "source": [
    "print res  # the structure of the returned objects depends on which method was used"
   ]
  },
  {
   "cell_type": "markdown",
   "metadata": {},
   "source": [
    "We have so far use deriviative free or zero-order optimization methods. These methods only require function evaluations but can be slow to converge. Let us now look at first-order optimization methods, i.e., methods that evaluate derivatives of the function being optimized."
   ]
  },
  {
   "cell_type": "code",
   "execution_count": 11,
   "metadata": {
    "collapsed": false
   },
   "outputs": [],
   "source": [
    "from scipy.optimize import rosen_der  # import the derivative of the Rosenbrock function"
   ]
  },
  {
   "cell_type": "code",
   "execution_count": 12,
   "metadata": {
    "collapsed": false
   },
   "outputs": [],
   "source": [
    "direction = np.random.randn(len(x0)); direction = direction/LA.norm(direction)  # choose a random unit vector"
   ]
  },
  {
   "cell_type": "code",
   "execution_count": 13,
   "metadata": {
    "collapsed": false
   },
   "outputs": [
    {
     "name": "stdout",
     "output_type": "stream",
     "text": [
      "[-0.70649627 -0.00421516  0.32070061 -0.15388695  0.61181303]  has norm  1.0\n"
     ]
    }
   ],
   "source": [
    "print direction, \" has norm \", LA.norm(direction)"
   ]
  },
  {
   "cell_type": "code",
   "execution_count": 14,
   "metadata": {
    "collapsed": false
   },
   "outputs": [],
   "source": [
    "eps = 1e-5  # a small number"
   ]
  },
  {
   "cell_type": "code",
   "execution_count": 15,
   "metadata": {
    "collapsed": false
   },
   "outputs": [],
   "source": [
    "rosen_change = rosen(x0 + eps * direction) - rosen(x0)  # actual change in the function in a given direction"
   ]
  },
  {
   "cell_type": "code",
   "execution_count": 16,
   "metadata": {
    "collapsed": false
   },
   "outputs": [],
   "source": [
    "approx_change = rosen_der(x0).dot(eps * direction)  # approx change using first order expansion"
   ]
  },
  {
   "cell_type": "code",
   "execution_count": 17,
   "metadata": {
    "collapsed": false
   },
   "outputs": [
    {
     "name": "stdout",
     "output_type": "stream",
     "text": [
      "actual change =  -0.0108828003179 \n",
      "change using 1st order Taylor expansion = -0.0108828622333\n"
     ]
    }
   ],
   "source": [
    "print \"actual change = \", rosen_change, \"\\nchange using 1st order Taylor expansion =\", approx_change"
   ]
  },
  {
   "cell_type": "markdown",
   "metadata": {},
   "source": [
    "Let us now minimize the Rosenbrock function using the [BFGS method](http://en.wikipedia.org/wiki/Broyden%E2%80%93Fletcher%E2%80%93Goldfarb%E2%80%93Shanno_algorithm). Note how we supply the derivative using the `jac` (for Jacobian) keyword argument."
   ]
  },
  {
   "cell_type": "code",
   "execution_count": 18,
   "metadata": {
    "collapsed": false
   },
   "outputs": [
    {
     "name": "stdout",
     "output_type": "stream",
     "text": [
      "Optimization terminated successfully.\n",
      "         Current function value: 0.000000\n",
      "         Iterations: 52\n",
      "         Function evaluations: 64\n",
      "         Gradient evaluations: 64\n"
     ]
    }
   ],
   "source": [
    "res = minimize(rosen, x0, method='BFGS', jac=rosen_der,\n",
    "               options={'disp': True})"
   ]
  },
  {
   "cell_type": "code",
   "execution_count": 19,
   "metadata": {
    "collapsed": false
   },
   "outputs": [
    {
     "name": "stdout",
     "output_type": "stream",
     "text": [
      "[ 1.  1.  1.  1.  1.]\n"
     ]
    }
   ],
   "source": [
    "print res.x"
   ]
  },
  {
   "cell_type": "code",
   "execution_count": 20,
   "metadata": {
    "collapsed": false
   },
   "outputs": [
    {
     "name": "stdout",
     "output_type": "stream",
     "text": [
      "   status: 0\n",
      "  success: True\n",
      "     njev: 64\n",
      "     nfev: 64\n",
      " hess_inv: array([[ 0.00742784,  0.01239067,  0.02361262,  0.04673885,  0.09348604],\n",
      "       [ 0.01239067,  0.02483023,  0.04731168,  0.09365448,  0.18731921],\n",
      "       [ 0.02361262,  0.04731168,  0.09490941,  0.18787576,  0.37577275],\n",
      "       [ 0.04673885,  0.09365448,  0.18787576,  0.3768795 ,  0.75378359],\n",
      "       [ 0.09348604,  0.18731921,  0.37577275,  0.75378359,  1.51262571]])\n",
      "      fun: 1.0115586212338213e-18\n",
      "        x: array([ 1.,  1.,  1.,  1.,  1.])\n",
      "  message: 'Optimization terminated successfully.'\n",
      "      jac: array([  4.35961711e-10,   3.31877303e-09,  -3.38990125e-08,\n",
      "         3.45087985e-08,  -9.65725278e-09])\n"
     ]
    }
   ],
   "source": [
    "print res  # note that hess_inv is an approximation to the Hessian computed internally by BFGS"
   ]
  },
  {
   "cell_type": "markdown",
   "metadata": {},
   "source": [
    "Another first order method provided by `minimize` is the (Polak–Ribière) [Conjugate Gradient (CG) method](http://en.wikipedia.org/wiki/Nonlinear_conjugate_gradient_method)."
   ]
  },
  {
   "cell_type": "code",
   "execution_count": 21,
   "metadata": {
    "collapsed": false
   },
   "outputs": [
    {
     "name": "stdout",
     "output_type": "stream",
     "text": [
      "Optimization terminated successfully.\n",
      "         Current function value: 0.000000\n",
      "         Iterations: 174\n",
      "         Function evaluations: 310\n",
      "         Gradient evaluations: 310\n"
     ]
    }
   ],
   "source": [
    "res = minimize(rosen, x0, method='CG', jac=rosen_der,\n",
    "               options={'disp': True})"
   ]
  },
  {
   "cell_type": "code",
   "execution_count": 22,
   "metadata": {
    "collapsed": false
   },
   "outputs": [
    {
     "name": "stdout",
     "output_type": "stream",
     "text": [
      "[ 0.99999985  0.99999971  0.99999943  0.99999888  0.99999774]\n"
     ]
    }
   ],
   "source": [
    "print res.x"
   ]
  },
  {
   "cell_type": "markdown",
   "metadata": {},
   "source": [
    "Now we will use a second-order optimization method, i.e. a method that uses Hessian evaluations. We will first import the Hessian of the Rosenbrock function from the `optimize` subpackage."
   ]
  },
  {
   "cell_type": "code",
   "execution_count": 23,
   "metadata": {
    "collapsed": false
   },
   "outputs": [],
   "source": [
    "from scipy.optimize import rosen_hess"
   ]
  },
  {
   "cell_type": "markdown",
   "metadata": {},
   "source": [
    "Let us check if the Hessian works as expected in a second-order Taylor expansion."
   ]
  },
  {
   "cell_type": "code",
   "execution_count": 24,
   "metadata": {
    "collapsed": false
   },
   "outputs": [],
   "source": [
    "approx_change2 = rosen_der(x0).dot(eps * direction) + 0.5*(eps * direction).dot(rosen_hess(x0)).dot(eps * direction)"
   ]
  },
  {
   "cell_type": "code",
   "execution_count": 25,
   "metadata": {
    "collapsed": false
   },
   "outputs": [
    {
     "name": "stdout",
     "output_type": "stream",
     "text": [
      "actual change =  -0.0108828003179 \n",
      "change using 2nd order Taylor approx. = -0.0108828003175\n"
     ]
    }
   ],
   "source": [
    "print \"actual change = \", rosen_change, \"\\nchange using 2nd order Taylor approx. =\", approx_change2"
   ]
  },
  {
   "cell_type": "markdown",
   "metadata": {},
   "source": [
    "We will now use the line search Newton-CG method (also called [truncated Newton method](http://www.neos-guide.org/content/truncated-newton-methods))."
   ]
  },
  {
   "cell_type": "code",
   "execution_count": 26,
   "metadata": {
    "collapsed": false
   },
   "outputs": [
    {
     "name": "stdout",
     "output_type": "stream",
     "text": [
      "Optimization terminated successfully.\n",
      "         Current function value: 0.000000\n",
      "         Iterations: 24\n",
      "         Function evaluations: 33\n",
      "         Gradient evaluations: 56\n",
      "         Hessian evaluations: 24\n"
     ]
    }
   ],
   "source": [
    "res = minimize(rosen, x0, method='Newton-CG',\n",
    "               jac=rosen_der, hess=rosen_hess,  # now we supply both Jacobian as well as Hessian\n",
    "               options={'xtol': 1e-8, 'disp': True})"
   ]
  },
  {
   "cell_type": "code",
   "execution_count": 27,
   "metadata": {
    "collapsed": false
   },
   "outputs": [
    {
     "name": "stdout",
     "output_type": "stream",
     "text": [
      "[ 1.          1.          1.          0.99999999  0.99999999]\n"
     ]
    }
   ],
   "source": [
    "print res.x"
   ]
  },
  {
   "cell_type": "markdown",
   "metadata": {},
   "source": [
    "Let us end this section by using one of the root finding functions in `scipy.optimize`.\n",
    "\n",
    "We will compute the [Omega constant](http://en.wikipedia.org/wiki/Omega_constant), namely the unique real number $\\Omega$ that satisifes the equality $\\Omega e^\\Omega = 1$."
   ]
  },
  {
   "cell_type": "code",
   "execution_count": 28,
   "metadata": {
    "collapsed": false
   },
   "outputs": [],
   "source": [
    "import math"
   ]
  },
  {
   "cell_type": "code",
   "execution_count": 29,
   "metadata": {
    "collapsed": false
   },
   "outputs": [],
   "source": [
    "def self_times_exp(x):\n",
    "    return x*math.exp(x)"
   ]
  },
  {
   "cell_type": "code",
   "execution_count": 30,
   "metadata": {
    "collapsed": false
   },
   "outputs": [],
   "source": [
    "from scipy.optimize import bisect"
   ]
  },
  {
   "cell_type": "code",
   "execution_count": 31,
   "metadata": {
    "collapsed": false
   },
   "outputs": [],
   "source": [
    "Omega = bisect(lambda x: self_times_exp(x) - 1, 0, 1)  # find the root of x*exp(x) - 1 using bisection on the interval [0, 1]"
   ]
  },
  {
   "cell_type": "code",
   "execution_count": 32,
   "metadata": {
    "collapsed": false
   },
   "outputs": [
    {
     "name": "stdout",
     "output_type": "stream",
     "text": [
      "0.56714329041\n"
     ]
    }
   ],
   "source": [
    "print Omega"
   ]
  },
  {
   "cell_type": "code",
   "execution_count": 33,
   "metadata": {
    "collapsed": false
   },
   "outputs": [
    {
     "name": "stdout",
     "output_type": "stream",
     "text": [
      "1.0\n"
     ]
    }
   ],
   "source": [
    "print Omega * math.exp(Omega)"
   ]
  },
  {
   "cell_type": "markdown",
   "metadata": {},
   "source": [
    "Another useful function is `scipy.optimize.golden` that implements the [Golden Section Search method](http://en.wikipedia.org/wiki/Golden_section_search) due to the statistician [Jack Kiefer](http://en.wikipedia.org/wiki/Jack_Kiefer_%28statistician%29). It searches for the minimum of a univariate function on an interval where there is a unique minimum. Each iteration reduces the interval to search in by a factor of $1/\\phi$ where $\\phi = \\frac{1+\\sqrt{5}}{2}$ is the [golden ratio](http://en.wikipedia.org/wiki/Golden_ratio)."
   ]
  },
  {
   "cell_type": "code",
   "execution_count": 34,
   "metadata": {
    "collapsed": false
   },
   "outputs": [],
   "source": [
    "from scipy.optimize import golden"
   ]
  },
  {
   "cell_type": "markdown",
   "metadata": {},
   "source": [
    "Let us now find the unique minimum of the function $f(x) = xe^x$ on the interval $[-2, 0]$. Since $f'(x) = (1+x)e^x$, we know that the minimum is achived at $x=-1$ but let us find that numerically."
   ]
  },
  {
   "cell_type": "code",
   "execution_count": 35,
   "metadata": {
    "collapsed": false
   },
   "outputs": [
    {
     "name": "stdout",
     "output_type": "stream",
     "text": [
      "-1.00000000199\n"
     ]
    }
   ],
   "source": [
    "print golden(lambda x: x*math.exp(x), brack=(-2, 0))"
   ]
  },
  {
   "cell_type": "markdown",
   "metadata": {},
   "source": [
    "# Special functions"
   ]
  },
  {
   "cell_type": "markdown",
   "metadata": {},
   "source": [
    "`scipy.special` provides many special mathematical functions. Almost all of them are universal functions and so can be applied to ndarrays elementwise. There are far too many of them for us to cover them in any sufficient detail (it is best to consult the [reference page](http://docs.scipy.org/doc/scipy/reference/special.html#module-scipy.special) to get a good idea of what's available).\n",
    "\n",
    "Here we simply find the Omega constant again via the [Lambert W function](http://en.wikipedia.org/wiki/Lambert_W_function) $W(z)$. It (or, to be more precise, its principal branch) is defined for $z \\ge -1/e$ as the number $W(z) \\ge -1$ such that $z = W(z) e^{W(z)}$. So, the Omega constant is nothing but $W(1)$."
   ]
  },
  {
   "cell_type": "code",
   "execution_count": 36,
   "metadata": {
    "collapsed": false
   },
   "outputs": [],
   "source": [
    "from scipy.special import lambertw"
   ]
  },
  {
   "cell_type": "code",
   "execution_count": 37,
   "metadata": {
    "collapsed": false
   },
   "outputs": [
    {
     "name": "stdout",
     "output_type": "stream",
     "text": [
      "(0.56714329041+0j)\n"
     ]
    }
   ],
   "source": [
    "print lambertw(1)  # returns a complex number"
   ]
  },
  {
   "cell_type": "code",
   "execution_count": 38,
   "metadata": {
    "collapsed": false
   },
   "outputs": [
    {
     "data": {
      "text/plain": [
       "True"
      ]
     },
     "execution_count": 38,
     "metadata": {},
     "output_type": "execute_result"
    }
   ],
   "source": [
    "np.allclose(Omega, lambertw(1))  # check if our value, computed using bisect, agrees with the above"
   ]
  },
  {
   "cell_type": "markdown",
   "metadata": {},
   "source": [
    "# Statistical functions"
   ]
  },
  {
   "cell_type": "code",
   "execution_count": 39,
   "metadata": {
    "collapsed": false
   },
   "outputs": [],
   "source": [
    "from scipy import stats"
   ]
  },
  {
   "cell_type": "markdown",
   "metadata": {},
   "source": [
    "The `stats` subpackage provides many discrete rvs (random variables) and continuous rvs. Discrete rvs are instances of the class [`scipy.stats.rv_discrete`](http://docs.scipy.org/doc/scipy/reference/generated/scipy.stats.rv_discrete.html#scipy.stats.rv_discrete). Continuous rvs are instances of the class [`scipy.stats.rv_continuous`](http://docs.scipy.org/doc/scipy/reference/generated/scipy.stats.rv_discrete.html#scipy.stats.rv_discrete)."
   ]
  },
  {
   "cell_type": "code",
   "execution_count": 40,
   "metadata": {
    "collapsed": false
   },
   "outputs": [],
   "source": [
    "cont_rvs = [d for d in dir(stats) if isinstance(getattr(stats, d), stats.rv_continuous)]"
   ]
  },
  {
   "cell_type": "code",
   "execution_count": 41,
   "metadata": {
    "collapsed": false
   },
   "outputs": [],
   "source": [
    "disc_rvs = [d for d in dir(stats) if isinstance(getattr(stats, d), stats.rv_discrete)]"
   ]
  },
  {
   "cell_type": "code",
   "execution_count": 42,
   "metadata": {
    "collapsed": false
   },
   "outputs": [
    {
     "name": "stdout",
     "output_type": "stream",
     "text": [
      "There are 86 continuous and 13 discrete distributions available.\n"
     ]
    }
   ],
   "source": [
    "print \"There are %d continuous and %d discrete distributions available.\" % (len(cont_rvs), len(disc_rvs))"
   ]
  },
  {
   "cell_type": "code",
   "execution_count": 43,
   "metadata": {
    "collapsed": false
   },
   "outputs": [],
   "source": [
    "from scipy.stats import expon  # import the exponential distribution"
   ]
  },
  {
   "cell_type": "code",
   "execution_count": 44,
   "metadata": {
    "collapsed": false
   },
   "outputs": [
    {
     "name": "stdout",
     "output_type": "stream",
     "text": [
      "[  6.16755471e-01   2.00155581e+00   1.59410481e+00   1.81967825e+00\n",
      "   2.70458588e-03   1.58646217e+00   5.88185633e-01   1.17508374e+00\n",
      "   1.20904118e+00   1.04800396e+00   8.46532636e-01   1.02705972e+00\n",
      "   1.91742834e+00   4.22041585e-01   1.77882825e+00   7.62140037e-01\n",
      "   1.36567755e-02   1.08967911e-01   1.99686270e+00   2.97167298e-01\n",
      "   1.71192926e+00   4.87026792e+00   4.03509102e-01   7.37263365e-02\n",
      "   5.21680628e-02   5.11189818e+00   5.74790641e+00   5.15406037e-01\n",
      "   2.26265629e+00   8.76046179e-01   2.77714060e-01   6.98332771e-02\n",
      "   4.34312074e-01   3.38551665e+00   2.37087137e+00   9.53821031e-01\n",
      "   1.91474175e+00   3.98271574e-01   5.90163490e-01   1.87667420e+00\n",
      "   5.00362067e-02   2.13805686e-01   1.89013920e-01   1.44922118e+00\n",
      "   1.25632013e-01   1.82912169e+00   3.27947748e-01   3.79692763e-01\n",
      "   1.54928454e-01   2.06582918e-01]\n"
     ]
    }
   ],
   "source": [
    "samples = expon.rvs(size=50); print samples  # draw 50 samples from the distribution"
   ]
  },
  {
   "cell_type": "code",
   "execution_count": 45,
   "metadata": {
    "collapsed": false
   },
   "outputs": [
    {
     "name": "stdout",
     "output_type": "stream",
     "text": [
      "1.19271353482 1.0\n"
     ]
    }
   ],
   "source": [
    "print np.mean(samples), expon.mean()  # check closeness of empirical mean with true mean"
   ]
  },
  {
   "cell_type": "markdown",
   "metadata": {},
   "source": [
    "Let's print the standard deviation, variance and entropy of an exponential rv."
   ]
  },
  {
   "cell_type": "code",
   "execution_count": 46,
   "metadata": {
    "collapsed": false
   },
   "outputs": [
    {
     "name": "stdout",
     "output_type": "stream",
     "text": [
      "SD = 1.000000, Var = 1.000000, Entropy = 1.000000\n"
     ]
    }
   ],
   "source": [
    "print \"SD = %f, Var = %f, Entropy = %f\" % (expon.std(), expon.var(), expon.entropy())"
   ]
  },
  {
   "cell_type": "code",
   "execution_count": 47,
   "metadata": {
    "collapsed": false
   },
   "outputs": [
    {
     "name": "stdout",
     "output_type": "stream",
     "text": [
      "1.0\n"
     ]
    }
   ],
   "source": [
    "print expon.pdf(0)  # p.d.f. at 0"
   ]
  },
  {
   "cell_type": "code",
   "execution_count": 48,
   "metadata": {
    "collapsed": false
   },
   "outputs": [
    {
     "name": "stdout",
     "output_type": "stream",
     "text": [
      "0.0\n"
     ]
    }
   ],
   "source": [
    "print expon.cdf(0)  # c.d.f. at 0"
   ]
  },
  {
   "cell_type": "code",
   "execution_count": 49,
   "metadata": {
    "collapsed": false
   },
   "outputs": [
    {
     "name": "stdout",
     "output_type": "stream",
     "text": [
      "1.38629436112\n"
     ]
    }
   ],
   "source": [
    "print expon.ppf(.75)  # inverse cdf, useful to get percentiles (75th in this case)"
   ]
  },
  {
   "cell_type": "code",
   "execution_count": 50,
   "metadata": {
    "collapsed": false
   },
   "outputs": [
    {
     "name": "stdout",
     "output_type": "stream",
     "text": [
      "[ 0.1  0.2  0.3  0.4  0.5  0.6  0.7  0.8  0.9]\n"
     ]
    }
   ],
   "source": [
    "quantiles = np.arange(.1, 1, .1); print quantiles\n",
    "    "
   ]
  },
  {
   "cell_type": "code",
   "execution_count": 51,
   "metadata": {
    "collapsed": false
   },
   "outputs": [
    {
     "data": {
      "text/plain": [
       "True"
      ]
     },
     "execution_count": 51,
     "metadata": {},
     "output_type": "execute_result"
    }
   ],
   "source": [
    "np.allclose(expon.cdf(expon.ppf(quantiles)), quantiles)  # check if ppf is indeed inverse cdf"
   ]
  },
  {
   "cell_type": "code",
   "execution_count": 52,
   "metadata": {
    "collapsed": false
   },
   "outputs": [
    {
     "data": {
      "text/plain": [
       "2.0"
      ]
     },
     "execution_count": 52,
     "metadata": {},
     "output_type": "execute_result"
    }
   ],
   "source": [
    "expon.expect(lambda x: x**2)  # expectation of the function x^2 under the expon p.d.f."
   ]
  },
  {
   "cell_type": "markdown",
   "metadata": {},
   "source": [
    "We know that $\\int x^k e^{-x} dx = k!$. Let's test if `expect` works as expected."
   ]
  },
  {
   "cell_type": "code",
   "execution_count": 53,
   "metadata": {
    "collapsed": false
   },
   "outputs": [],
   "source": [
    "from scipy.special import factorial"
   ]
  },
  {
   "cell_type": "code",
   "execution_count": 54,
   "metadata": {
    "collapsed": false
   },
   "outputs": [
    {
     "data": {
      "text/plain": [
       "True"
      ]
     },
     "execution_count": 54,
     "metadata": {},
     "output_type": "execute_result"
    }
   ],
   "source": [
    "np.allclose(factorial(np.arange(10)), np.array([expon.expect(lambda x: x**k) for k in range(10)]))"
   ]
  },
  {
   "cell_type": "markdown",
   "metadata": {},
   "source": [
    "Since expectations of $x^k$ are just the (uncentered) moments, we could have also equivalently done the following."
   ]
  },
  {
   "cell_type": "code",
   "execution_count": 55,
   "metadata": {
    "collapsed": false
   },
   "outputs": [
    {
     "data": {
      "text/plain": [
       "True"
      ]
     },
     "execution_count": 55,
     "metadata": {},
     "output_type": "execute_result"
    }
   ],
   "source": [
    "np.allclose(factorial(np.arange(10)), np.array([expon.moment(k) for k in range(10)]))"
   ]
  },
  {
   "cell_type": "markdown",
   "metadata": {},
   "source": [
    "The `median()` method returns the median. Let us test it on 4 popular continuous distributions."
   ]
  },
  {
   "cell_type": "code",
   "execution_count": 56,
   "metadata": {
    "collapsed": false
   },
   "outputs": [],
   "source": [
    "rv_names = ['expon', 'norm', 'cauchy', 'uniform']"
   ]
  },
  {
   "cell_type": "code",
   "execution_count": 57,
   "metadata": {
    "collapsed": false
   },
   "outputs": [],
   "source": [
    "rv_objects = [getattr(stats, rv_name) for rv_name in rv_names]"
   ]
  },
  {
   "cell_type": "code",
   "execution_count": 58,
   "metadata": {
    "collapsed": false
   },
   "outputs": [
    {
     "data": {
      "text/plain": [
       "[True, True, True, True]"
      ]
     },
     "execution_count": 58,
     "metadata": {},
     "output_type": "execute_result"
    }
   ],
   "source": [
    "[np.allclose(rv.median(), rv.ppf(0.5)) for rv in rv_objects]  # median should be inverse cdf at 0.5"
   ]
  },
  {
   "cell_type": "markdown",
   "metadata": {},
   "source": [
    "Now let us work with a discrete rv, say Poisson."
   ]
  },
  {
   "cell_type": "code",
   "execution_count": 59,
   "metadata": {
    "collapsed": false
   },
   "outputs": [],
   "source": [
    "from scipy.stats import poisson"
   ]
  },
  {
   "cell_type": "code",
   "execution_count": 60,
   "metadata": {
    "collapsed": false
   },
   "outputs": [],
   "source": [
    "samples = poisson.rvs(mu=1, size=50)  # note how we have to supply the mu parameter in this case (no default assumed)"
   ]
  },
  {
   "cell_type": "code",
   "execution_count": 61,
   "metadata": {
    "collapsed": false
   },
   "outputs": [
    {
     "name": "stdout",
     "output_type": "stream",
     "text": [
      "[0 1 2 0 1 1 3 1 2 1 1 0 1 0 2 1 1 0 0 1 0 2 1 0 1 0 3 2 0 2 1 0 2 1 2 3 3\n",
      " 1 2 0 1 4 0 1 0 0 0 1 1 1]\n"
     ]
    }
   ],
   "source": [
    "print samples"
   ]
  },
  {
   "cell_type": "code",
   "execution_count": 62,
   "metadata": {
    "collapsed": false
   },
   "outputs": [
    {
     "name": "stdout",
     "output_type": "stream",
     "text": [
      "1.08 1.0\n"
     ]
    }
   ],
   "source": [
    "print np.mean(samples), poisson(mu=1).mean()"
   ]
  },
  {
   "cell_type": "markdown",
   "metadata": {},
   "source": [
    "If you don't like supplying the `mu` argument all the time, you can also create a \"frozen rv\" (see discussion [here](http://docs.scipy.org/doc/scipy/reference/tutorial/stats.html#freezing-a-distribution))."
   ]
  },
  {
   "cell_type": "code",
   "execution_count": 63,
   "metadata": {
    "collapsed": false
   },
   "outputs": [],
   "source": [
    "poisson1 = poisson(mu=1)  # create frozen rv"
   ]
  },
  {
   "cell_type": "code",
   "execution_count": 64,
   "metadata": {
    "collapsed": false
   },
   "outputs": [],
   "source": [
    "p_mean, p_var, p_skew = poisson1.stats('mvs')  # get mean, variance and skewness"
   ]
  },
  {
   "cell_type": "code",
   "execution_count": 65,
   "metadata": {
    "collapsed": false
   },
   "outputs": [
    {
     "name": "stdout",
     "output_type": "stream",
     "text": [
      "Mean = 1.000000, Var = 1.000000, Skewness = 1.000000\n"
     ]
    }
   ],
   "source": [
    "print \"Mean = %f, Var = %f, Skewness = %f\" % (p_mean, p_var, p_skew)"
   ]
  },
  {
   "cell_type": "markdown",
   "metadata": {},
   "source": [
    "Poisson($\\mu = 1$) has p.m.f. $p(i) = e^{-1} \\frac{1}{i!}, i \\in \\{0, 1, 2, \\ldots\\}$."
   ]
  },
  {
   "cell_type": "code",
   "execution_count": 66,
   "metadata": {
    "collapsed": false
   },
   "outputs": [],
   "source": [
    "known_pmf = np.exp(-1)*(1/factorial(np.arange(10)))  # note that factorial (imported from scipy.special) is a ufunc"
   ]
  },
  {
   "cell_type": "code",
   "execution_count": 67,
   "metadata": {
    "collapsed": false
   },
   "outputs": [
    {
     "data": {
      "text/plain": [
       "True"
      ]
     },
     "execution_count": 67,
     "metadata": {},
     "output_type": "execute_result"
    }
   ],
   "source": [
    "np.allclose(known_pmf, poisson1.pmf(np.arange(10)))"
   ]
  }
 ],
 "metadata": {
  "kernelspec": {
   "display_name": "Python 2",
   "language": "python",
   "name": "python2"
  },
  "language_info": {
   "codemirror_mode": {
    "name": "ipython",
    "version": 2
   },
   "file_extension": ".py",
   "mimetype": "text/x-python",
   "name": "python",
   "nbconvert_exporter": "python",
   "pygments_lexer": "ipython2",
   "version": "2.7.10"
  }
 },
 "nbformat": 4,
 "nbformat_minor": 0
}
