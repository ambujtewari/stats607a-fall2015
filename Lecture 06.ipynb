{
 "cells": [
  {
   "cell_type": "markdown",
   "metadata": {},
   "source": [
    "Today we'll cover:\n",
    "\n",
    "1. [Array input and output](#Array-input-and-output)\n",
    "2. [Linear algebra](#Linear-algebra)"
   ]
  },
  {
   "cell_type": "markdown",
   "metadata": {},
   "source": [
    "# Array input and output"
   ]
  },
  {
   "cell_type": "markdown",
   "metadata": {},
   "source": [
    "Sometimes you want store your arrays on disk for reading them later. `numpy.save` and `numpy.load` are the basic functions for doing that."
   ]
  },
  {
   "cell_type": "code",
   "execution_count": 1,
   "metadata": {
    "collapsed": false
   },
   "outputs": [],
   "source": [
    "import numpy as np"
   ]
  },
  {
   "cell_type": "code",
   "execution_count": 2,
   "metadata": {
    "collapsed": false
   },
   "outputs": [
    {
     "name": "stdout",
     "output_type": "stream",
     "text": [
      "[[1 2]\n",
      " [3 4]]\n"
     ]
    }
   ],
   "source": [
    "array2d = np.array([[1, 2], [3, 4]]); print array2d"
   ]
  },
  {
   "cell_type": "code",
   "execution_count": 3,
   "metadata": {
    "collapsed": false
   },
   "outputs": [],
   "source": [
    "np.save('my_array', array2d)  # stores the array on disk as my_array.npy (the extension .npy is added if not provided)"
   ]
  },
  {
   "cell_type": "code",
   "execution_count": 4,
   "metadata": {
    "collapsed": false
   },
   "outputs": [],
   "source": [
    "from glob import glob  # python module for finding files whose names match a pattern"
   ]
  },
  {
   "cell_type": "code",
   "execution_count": 5,
   "metadata": {
    "collapsed": false
   },
   "outputs": [
    {
     "data": {
      "text/plain": [
       "['my_array.npy']"
      ]
     },
     "execution_count": 5,
     "metadata": {},
     "output_type": "execute_result"
    }
   ],
   "source": [
    "glob('*.npy')  # find all files in the current directory with extension .npy"
   ]
  },
  {
   "cell_type": "code",
   "execution_count": 6,
   "metadata": {
    "collapsed": false
   },
   "outputs": [],
   "source": [
    "del array2d  # del is a built-in Python function that deletes the binding of a name to an object"
   ]
  },
  {
   "cell_type": "code",
   "execution_count": 7,
   "metadata": {
    "collapsed": false
   },
   "outputs": [
    {
     "ename": "NameError",
     "evalue": "name 'array2d' is not defined",
     "output_type": "error",
     "traceback": [
      "\u001b[0;31m---------------------------------------------------------------------------\u001b[0m",
      "\u001b[0;31mNameError\u001b[0m                                 Traceback (most recent call last)",
      "\u001b[0;32m<ipython-input-7-2f9feb4af104>\u001b[0m in \u001b[0;36m<module>\u001b[0;34m()\u001b[0m\n\u001b[0;32m----> 1\u001b[0;31m \u001b[0;32mprint\u001b[0m \u001b[0marray2d\u001b[0m  \u001b[0;31m# now raises an error since we deleted the name array2d\u001b[0m\u001b[0;34m\u001b[0m\u001b[0m\n\u001b[0m",
      "\u001b[0;31mNameError\u001b[0m: name 'array2d' is not defined"
     ]
    }
   ],
   "source": [
    "print array2d  # now raises an error since we deleted the name array2d"
   ]
  },
  {
   "cell_type": "code",
   "execution_count": 8,
   "metadata": {
    "collapsed": false
   },
   "outputs": [],
   "source": [
    "array2d = np.load('my_array.npy')  # need to supply the extension .npy when using np.load"
   ]
  },
  {
   "cell_type": "code",
   "execution_count": 9,
   "metadata": {
    "collapsed": false
   },
   "outputs": [
    {
     "name": "stdout",
     "output_type": "stream",
     "text": [
      "[[1 2]\n",
      " [3 4]]\n"
     ]
    }
   ],
   "source": [
    "print array2d"
   ]
  },
  {
   "cell_type": "markdown",
   "metadata": {},
   "source": [
    "You can also save multiple arrays via `numpy.savez` and later load them via `numpy.load`."
   ]
  },
  {
   "cell_type": "code",
   "execution_count": 10,
   "metadata": {
    "collapsed": false
   },
   "outputs": [
    {
     "name": "stdout",
     "output_type": "stream",
     "text": [
      "[[ 0.94675603  0.78921939  0.67859779  0.86219206]\n",
      " [ 0.07040027  0.48954732  0.54008541  0.71729253]\n",
      " [ 0.02510995  0.75441661  0.29881107  0.74281693]]\n"
     ]
    }
   ],
   "source": [
    "random_2d = np.random.random((3, 4)); print random_2d  # 10 random values drawn uniformly from [0,1)"
   ]
  },
  {
   "cell_type": "code",
   "execution_count": 11,
   "metadata": {
    "collapsed": false
   },
   "outputs": [
    {
     "name": "stdout",
     "output_type": "stream",
     "text": [
      "[[-0.05471384 -0.23671094 -0.38772669 -0.14827723]\n",
      " [-2.65355825 -0.71427416 -0.61602798 -0.33227153]\n",
      " [-3.6844911  -0.28181052 -1.20794379 -0.29730566]]\n"
     ]
    }
   ],
   "source": [
    "log_2d = np.log(random_2d); print log_2d"
   ]
  },
  {
   "cell_type": "code",
   "execution_count": 12,
   "metadata": {
    "collapsed": false
   },
   "outputs": [
    {
     "name": "stdout",
     "output_type": "stream",
     "text": [
      "[[ 2.57733529  2.20167709  1.97111187  2.36834656]\n",
      " [ 1.07293755  1.63157746  1.71615344  2.04887841]\n",
      " [ 1.02542786  2.12637067  1.34825487  2.10184794]]\n"
     ]
    }
   ],
   "source": [
    "exp_2d = np.exp(random_2d); print exp_2d"
   ]
  },
  {
   "cell_type": "markdown",
   "metadata": {},
   "source": [
    "Now let us save the last three arrays we created into a file."
   ]
  },
  {
   "cell_type": "code",
   "execution_count": 13,
   "metadata": {
    "collapsed": false
   },
   "outputs": [],
   "source": [
    "np.savez('three_arrays', random_2d, log_2d, exp_2d)  # An .npz extension is supplied if not already given"
   ]
  },
  {
   "cell_type": "code",
   "execution_count": 14,
   "metadata": {
    "collapsed": false
   },
   "outputs": [],
   "source": [
    "loaded_arrays = np.load('three_arrays.npz')   # for .npz files, np.load returns a dictionary-like object"
   ]
  },
  {
   "cell_type": "code",
   "execution_count": 15,
   "metadata": {
    "collapsed": false
   },
   "outputs": [
    {
     "name": "stdout",
     "output_type": "stream",
     "text": [
      "[[ 0.94675603  0.78921939  0.67859779  0.86219206]\n",
      " [ 0.07040027  0.48954732  0.54008541  0.71729253]\n",
      " [ 0.02510995  0.75441661  0.29881107  0.74281693]]\n"
     ]
    }
   ],
   "source": [
    "print loaded_arrays['arr_0']  # the first stored array can be accesses via the key 'arr_0'"
   ]
  },
  {
   "cell_type": "code",
   "execution_count": 16,
   "metadata": {
    "collapsed": false
   },
   "outputs": [
    {
     "name": "stdout",
     "output_type": "stream",
     "text": [
      "[[-0.05471384 -0.23671094 -0.38772669 -0.14827723]\n",
      " [-2.65355825 -0.71427416 -0.61602798 -0.33227153]\n",
      " [-3.6844911  -0.28181052 -1.20794379 -0.29730566]]\n"
     ]
    }
   ],
   "source": [
    "print loaded_arrays['arr_1']  # the second stored array can be accessed via the key 'arr_1' (and so on ...)"
   ]
  },
  {
   "cell_type": "code",
   "execution_count": 17,
   "metadata": {
    "collapsed": false
   },
   "outputs": [
    {
     "name": "stdout",
     "output_type": "stream",
     "text": [
      "[[ 2.57733529  2.20167709  1.97111187  2.36834656]\n",
      " [ 1.07293755  1.63157746  1.71615344  2.04887841]\n",
      " [ 1.02542786  2.12637067  1.34825487  2.10184794]]\n"
     ]
    }
   ],
   "source": [
    "print loaded_arrays['arr_2']"
   ]
  },
  {
   "cell_type": "markdown",
   "metadata": {},
   "source": [
    "If you want to save the arrays using meaningful names then use keyword arguments in `numpy.savez`."
   ]
  },
  {
   "cell_type": "code",
   "execution_count": 18,
   "metadata": {
    "collapsed": false
   },
   "outputs": [],
   "source": [
    "np.savez('three_arrays', random=random_2d, logs=log_2d, exps=exp_2d)"
   ]
  },
  {
   "cell_type": "code",
   "execution_count": 19,
   "metadata": {
    "collapsed": false
   },
   "outputs": [],
   "source": [
    "loaded_arrays = np.load('three_arrays.npz')"
   ]
  },
  {
   "cell_type": "code",
   "execution_count": 20,
   "metadata": {
    "collapsed": false
   },
   "outputs": [
    {
     "name": "stdout",
     "output_type": "stream",
     "text": [
      "loaded_arrays['exps'] is the following:\n",
      "[[ 2.57733529  2.20167709  1.97111187  2.36834656]\n",
      " [ 1.07293755  1.63157746  1.71615344  2.04887841]\n",
      " [ 1.02542786  2.12637067  1.34825487  2.10184794]]\n",
      "loaded_arrays['random'] is the following:\n",
      "[[ 0.94675603  0.78921939  0.67859779  0.86219206]\n",
      " [ 0.07040027  0.48954732  0.54008541  0.71729253]\n",
      " [ 0.02510995  0.75441661  0.29881107  0.74281693]]\n",
      "loaded_arrays['logs'] is the following:\n",
      "[[-0.05471384 -0.23671094 -0.38772669 -0.14827723]\n",
      " [-2.65355825 -0.71427416 -0.61602798 -0.33227153]\n",
      " [-3.6844911  -0.28181052 -1.20794379 -0.29730566]]\n"
     ]
    }
   ],
   "source": [
    "for key in loaded_arrays.keys():\n",
    "    print \"loaded_arrays['\" + key + \"'] is the following:\"\n",
    "    print loaded_arrays[key]"
   ]
  },
  {
   "cell_type": "markdown",
   "metadata": {},
   "source": [
    "When dealing with data destinations or sources outside of Python, the ability to save and load text files is useful. The functions `numpy.savetxt` and `numpy.loadtxt` offer basic functionality for doing that."
   ]
  },
  {
   "cell_type": "code",
   "execution_count": 21,
   "metadata": {
    "collapsed": false
   },
   "outputs": [
    {
     "name": "stdout",
     "output_type": "stream",
     "text": [
      "[[ 0.    0.01  0.02  0.03  0.04  0.05  0.06  0.07]\n",
      " [ 0.08  0.09  0.1   0.11  0.12  0.13  0.14  0.15]\n",
      " [ 0.16  0.17  0.18  0.19  0.2   0.21  0.22  0.23]\n",
      " [ 0.24  0.25  0.26  0.27  0.28  0.29  0.3   0.31]\n",
      " [ 0.32  0.33  0.34  0.35  0.36  0.37  0.38  0.39]]\n"
     ]
    }
   ],
   "source": [
    "two_decimals = np.arange(0, .4, .01).reshape((5, 8)); print two_decimals "
   ]
  },
  {
   "cell_type": "code",
   "execution_count": 22,
   "metadata": {
    "collapsed": false
   },
   "outputs": [],
   "source": [
    "np.savetxt('two_decimals.csv', two_decimals, delimiter=',')  # default delimiter is space"
   ]
  },
  {
   "cell_type": "markdown",
   "metadata": {},
   "source": [
    "In IPython (the enhanced interactive Python environment used to create this notebook), commands starting with an exclamation mark (!) are possed on to the shell for execution and the resulting output is shown. Do not use this in your python scripts meant to be run using the standard Python interpreter! Python will flag a syntax error for lines that start with an exclamation mark."
   ]
  },
  {
   "cell_type": "code",
   "execution_count": 23,
   "metadata": {
    "collapsed": false
   },
   "outputs": [
    {
     "name": "stdout",
     "output_type": "stream",
     "text": [
      "0.000000000000000000e+00,1.000000000000000021e-02,2.000000000000000042e-02,2.999999999999999889e-02,4.000000000000000083e-02,5.000000000000000278e-02,5.999999999999999778e-02,7.000000000000000666e-02\r\n",
      "8.000000000000000167e-02,8.999999999999999667e-02,1.000000000000000056e-01,1.100000000000000006e-01,1.199999999999999956e-01,1.300000000000000044e-01,1.400000000000000133e-01,1.499999999999999944e-01\r\n",
      "1.600000000000000033e-01,1.700000000000000122e-01,1.799999999999999933e-01,1.900000000000000022e-01,2.000000000000000111e-01,2.099999999999999922e-01,2.200000000000000011e-01,2.300000000000000100e-01\r\n",
      "2.399999999999999911e-01,2.500000000000000000e-01,2.600000000000000089e-01,2.700000000000000178e-01,2.800000000000000266e-01,2.899999999999999800e-01,2.999999999999999889e-01,3.099999999999999978e-01\r\n",
      "3.200000000000000067e-01,3.300000000000000155e-01,3.400000000000000244e-01,3.500000000000000333e-01,3.599999999999999867e-01,3.699999999999999956e-01,3.800000000000000044e-01,3.900000000000000133e-01\r\n"
     ]
    }
   ],
   "source": [
    "!cat two_decimals.csv  # we did create a file with comma separated values but the float representation is too long"
   ]
  },
  {
   "cell_type": "code",
   "execution_count": 24,
   "metadata": {
    "collapsed": false
   },
   "outputs": [],
   "source": [
    "np.savetxt('two_decimals.csv', two_decimals, fmt='%.2f', delimiter=',')  # we'll now use a better format string"
   ]
  },
  {
   "cell_type": "code",
   "execution_count": 25,
   "metadata": {
    "collapsed": false
   },
   "outputs": [
    {
     "name": "stdout",
     "output_type": "stream",
     "text": [
      "0.00,0.01,0.02,0.03,0.04,0.05,0.06,0.07\r\n",
      "0.08,0.09,0.10,0.11,0.12,0.13,0.14,0.15\r\n",
      "0.16,0.17,0.18,0.19,0.20,0.21,0.22,0.23\r\n",
      "0.24,0.25,0.26,0.27,0.28,0.29,0.30,0.31\r\n",
      "0.32,0.33,0.34,0.35,0.36,0.37,0.38,0.39\r\n"
     ]
    }
   ],
   "source": [
    "!cat two_decimals.csv"
   ]
  },
  {
   "cell_type": "markdown",
   "metadata": {},
   "source": [
    "Let us now delete the local variable `two_decimals` and then load the csv file."
   ]
  },
  {
   "cell_type": "code",
   "execution_count": 26,
   "metadata": {
    "collapsed": false
   },
   "outputs": [],
   "source": [
    "del two_decimals"
   ]
  },
  {
   "cell_type": "code",
   "execution_count": 27,
   "metadata": {
    "collapsed": false
   },
   "outputs": [
    {
     "name": "stdout",
     "output_type": "stream",
     "text": [
      "[[ 0.    0.01  0.02  0.03  0.04  0.05  0.06  0.07]\n",
      " [ 0.08  0.09  0.1   0.11  0.12  0.13  0.14  0.15]\n",
      " [ 0.16  0.17  0.18  0.19  0.2   0.21  0.22  0.23]\n",
      " [ 0.24  0.25  0.26  0.27  0.28  0.29  0.3   0.31]\n",
      " [ 0.32  0.33  0.34  0.35  0.36  0.37  0.38  0.39]]\n"
     ]
    }
   ],
   "source": [
    "two_decimals = np.loadtxt('two_decimals.csv', delimiter=','); print two_decimals"
   ]
  },
  {
   "cell_type": "markdown",
   "metadata": {},
   "source": [
    "Let us now add a header line to two_decimals.csv"
   ]
  },
  {
   "cell_type": "code",
   "execution_count": 28,
   "metadata": {
    "collapsed": false
   },
   "outputs": [],
   "source": [
    "!echo \"This is a header.\" > header"
   ]
  },
  {
   "cell_type": "code",
   "execution_count": 29,
   "metadata": {
    "collapsed": false
   },
   "outputs": [],
   "source": [
    "!cat header two_decimals.csv > two_decimals_header.csv"
   ]
  },
  {
   "cell_type": "code",
   "execution_count": 30,
   "metadata": {
    "collapsed": false
   },
   "outputs": [
    {
     "name": "stdout",
     "output_type": "stream",
     "text": [
      "This is a header.\r\n",
      "0.00,0.01,0.02,0.03,0.04,0.05,0.06,0.07\r\n",
      "0.08,0.09,0.10,0.11,0.12,0.13,0.14,0.15\r\n",
      "0.16,0.17,0.18,0.19,0.20,0.21,0.22,0.23\r\n",
      "0.24,0.25,0.26,0.27,0.28,0.29,0.30,0.31\r\n",
      "0.32,0.33,0.34,0.35,0.36,0.37,0.38,0.39\r\n"
     ]
    }
   ],
   "source": [
    "!cat two_decimals_header.csv"
   ]
  },
  {
   "cell_type": "code",
   "execution_count": 31,
   "metadata": {
    "collapsed": false
   },
   "outputs": [],
   "source": [
    "two_decimals = np.loadtxt('two_decimals_header.csv', delimiter=',', skiprows=1)  # skip the first row"
   ]
  },
  {
   "cell_type": "code",
   "execution_count": 32,
   "metadata": {
    "collapsed": false
   },
   "outputs": [
    {
     "name": "stdout",
     "output_type": "stream",
     "text": [
      "[[ 0.    0.01  0.02  0.03  0.04  0.05  0.06  0.07]\n",
      " [ 0.08  0.09  0.1   0.11  0.12  0.13  0.14  0.15]\n",
      " [ 0.16  0.17  0.18  0.19  0.2   0.21  0.22  0.23]\n",
      " [ 0.24  0.25  0.26  0.27  0.28  0.29  0.3   0.31]\n",
      " [ 0.32  0.33  0.34  0.35  0.36  0.37  0.38  0.39]]\n"
     ]
    }
   ],
   "source": [
    "print two_decimals"
   ]
  },
  {
   "cell_type": "code",
   "execution_count": 33,
   "metadata": {
    "collapsed": false
   },
   "outputs": [],
   "source": [
    "!echo \"# This is a comment.\" >> two_decimals_header.csv"
   ]
  },
  {
   "cell_type": "code",
   "execution_count": 34,
   "metadata": {
    "collapsed": false
   },
   "outputs": [
    {
     "name": "stdout",
     "output_type": "stream",
     "text": [
      "This is a header.\r\n",
      "0.00,0.01,0.02,0.03,0.04,0.05,0.06,0.07\r\n",
      "0.08,0.09,0.10,0.11,0.12,0.13,0.14,0.15\r\n",
      "0.16,0.17,0.18,0.19,0.20,0.21,0.22,0.23\r\n",
      "0.24,0.25,0.26,0.27,0.28,0.29,0.30,0.31\r\n",
      "0.32,0.33,0.34,0.35,0.36,0.37,0.38,0.39\r\n",
      "# This is a comment.\r\n"
     ]
    }
   ],
   "source": [
    "!cat two_decimals_header.csv"
   ]
  },
  {
   "cell_type": "code",
   "execution_count": 35,
   "metadata": {
    "collapsed": false
   },
   "outputs": [],
   "source": [
    "two_decimals = np.loadtxt('two_decimals_header.csv', delimiter=',', skiprows=1)  # np.loadtxt will automatically skip comments"
   ]
  },
  {
   "cell_type": "code",
   "execution_count": 36,
   "metadata": {
    "collapsed": false
   },
   "outputs": [
    {
     "name": "stdout",
     "output_type": "stream",
     "text": [
      "[[ 0.    0.01  0.02  0.03  0.04  0.05  0.06  0.07]\n",
      " [ 0.08  0.09  0.1   0.11  0.12  0.13  0.14  0.15]\n",
      " [ 0.16  0.17  0.18  0.19  0.2   0.21  0.22  0.23]\n",
      " [ 0.24  0.25  0.26  0.27  0.28  0.29  0.3   0.31]\n",
      " [ 0.32  0.33  0.34  0.35  0.36  0.37  0.38  0.39]]\n"
     ]
    }
   ],
   "source": [
    "print two_decimals"
   ]
  },
  {
   "cell_type": "markdown",
   "metadata": {},
   "source": [
    "# Linear algebra"
   ]
  },
  {
   "cell_type": "markdown",
   "metadata": {},
   "source": [
    "We have already seen one linear algebra method, namely `numpy.dot()` (and the related ndarray method `numpy.ndarray.dot()`). For vectors, it computes inner products. For 2-d arrays, it computes matrix multiplication (we have already seen an example involving 2-d rotation matrices)."
   ]
  },
  {
   "cell_type": "code",
   "execution_count": 37,
   "metadata": {
    "collapsed": false
   },
   "outputs": [],
   "source": [
    "vec1 = np.array([1, 2])"
   ]
  },
  {
   "cell_type": "code",
   "execution_count": 38,
   "metadata": {
    "collapsed": false
   },
   "outputs": [],
   "source": [
    "vec2 = np.array([3, 4])  # inner product of vec1 and vec2 is 11"
   ]
  },
  {
   "cell_type": "code",
   "execution_count": 39,
   "metadata": {
    "collapsed": false
   },
   "outputs": [
    {
     "name": "stdout",
     "output_type": "stream",
     "text": [
      "11\n"
     ]
    }
   ],
   "source": [
    "print np.dot(vec1, vec2)  # compute it using the function np.dot"
   ]
  },
  {
   "cell_type": "code",
   "execution_count": 40,
   "metadata": {
    "collapsed": false
   },
   "outputs": [
    {
     "name": "stdout",
     "output_type": "stream",
     "text": [
      "11\n"
     ]
    }
   ],
   "source": [
    "print vec1.dot(vec2)  # compute it using the method dot of ndarray objects"
   ]
  },
  {
   "cell_type": "code",
   "execution_count": 41,
   "metadata": {
    "collapsed": false
   },
   "outputs": [
    {
     "name": "stdout",
     "output_type": "stream",
     "text": [
      "[[1 1]\n",
      " [2 2]]\n"
     ]
    }
   ],
   "source": [
    "my_arr = np.array([[1, 1], [2, 2]]); print my_arr"
   ]
  },
  {
   "cell_type": "code",
   "execution_count": 42,
   "metadata": {
    "collapsed": false
   },
   "outputs": [
    {
     "data": {
      "text/plain": [
       "array([5, 5])"
      ]
     },
     "execution_count": 42,
     "metadata": {},
     "output_type": "execute_result"
    }
   ],
   "source": [
    "vec1.dot(my_arr)  # dot also works for 1-d and 2-d arrays"
   ]
  },
  {
   "cell_type": "code",
   "execution_count": 43,
   "metadata": {
    "collapsed": false
   },
   "outputs": [
    {
     "data": {
      "text/plain": [
       "array([3, 6])"
      ]
     },
     "execution_count": 43,
     "metadata": {},
     "output_type": "execute_result"
    }
   ],
   "source": [
    "my_arr.dot(vec1)  # of course, the order is important"
   ]
  },
  {
   "cell_type": "code",
   "execution_count": 44,
   "metadata": {
    "collapsed": false
   },
   "outputs": [
    {
     "data": {
      "text/plain": [
       "array([3, 6])"
      ]
     },
     "execution_count": 44,
     "metadata": {},
     "output_type": "execute_result"
    }
   ],
   "source": [
    "vec1.dot(my_arr.T)  # same as previous"
   ]
  },
  {
   "cell_type": "markdown",
   "metadata": {},
   "source": [
    "`numpy.inner` is the same as `numpy.dot` for 1-d arrays."
   ]
  },
  {
   "cell_type": "code",
   "execution_count": 45,
   "metadata": {
    "collapsed": false
   },
   "outputs": [
    {
     "data": {
      "text/plain": [
       "11"
      ]
     },
     "execution_count": 45,
     "metadata": {},
     "output_type": "execute_result"
    }
   ],
   "source": [
    "np.inner(vec1, vec2)"
   ]
  },
  {
   "cell_type": "markdown",
   "metadata": {},
   "source": [
    "We can also compute the outer product via `numpy.outer`."
   ]
  },
  {
   "cell_type": "code",
   "execution_count": 46,
   "metadata": {
    "collapsed": false
   },
   "outputs": [
    {
     "data": {
      "text/plain": [
       "array([[3, 4],\n",
       "       [6, 8]])"
      ]
     },
     "execution_count": 46,
     "metadata": {},
     "output_type": "execute_result"
    }
   ],
   "source": [
    "np.outer(vec1, vec2)"
   ]
  },
  {
   "cell_type": "code",
   "execution_count": 47,
   "metadata": {
    "collapsed": false
   },
   "outputs": [
    {
     "name": "stdout",
     "output_type": "stream",
     "text": [
      "[[1 3]\n",
      " [2 4]]\n"
     ]
    }
   ],
   "source": [
    "my_arr = np.column_stack((vec1, vec2)); print my_arr"
   ]
  },
  {
   "cell_type": "code",
   "execution_count": 48,
   "metadata": {
    "collapsed": false
   },
   "outputs": [
    {
     "data": {
      "text/plain": [
       "array([[ 1.,  1.,  3.,  3.],\n",
       "       [ 1.,  1.,  3.,  3.],\n",
       "       [ 2.,  2.,  4.,  4.],\n",
       "       [ 2.,  2.,  4.,  4.]])"
      ]
     },
     "execution_count": 48,
     "metadata": {},
     "output_type": "execute_result"
    }
   ],
   "source": [
    "np.kron(my_arr, np.ones((2, 2)))  # 2nd array scaled by entries of first (Kronecker product)"
   ]
  },
  {
   "cell_type": "code",
   "execution_count": 49,
   "metadata": {
    "collapsed": false
   },
   "outputs": [],
   "source": [
    "from numpy import linalg as LA  # import the linear algebra subpackage of numpy"
   ]
  },
  {
   "cell_type": "code",
   "execution_count": 50,
   "metadata": {
    "collapsed": false
   },
   "outputs": [
    {
     "name": "stdout",
     "output_type": "stream",
     "text": [
      "[[0 0 1]\n",
      " [1 0 0]\n",
      " [0 1 0]]\n"
     ]
    }
   ],
   "source": [
    "right_shift = np.array([[0, 0, 1], [1, 0, 0], [0, 1, 0]]); print right_shift"
   ]
  },
  {
   "cell_type": "code",
   "execution_count": 51,
   "metadata": {
    "collapsed": false
   },
   "outputs": [
    {
     "name": "stdout",
     "output_type": "stream",
     "text": [
      "[2 0 1]\n"
     ]
    }
   ],
   "source": [
    "print right_shift.dot(np.arange(3))  # [0 1 2] should becomes [2 0 1]"
   ]
  },
  {
   "cell_type": "code",
   "execution_count": 52,
   "metadata": {
    "collapsed": false
   },
   "outputs": [],
   "source": [
    "shift_cubed = LA.matrix_power(right_shift, 3)  # this should be identity"
   ]
  },
  {
   "cell_type": "code",
   "execution_count": 53,
   "metadata": {
    "collapsed": false
   },
   "outputs": [
    {
     "name": "stdout",
     "output_type": "stream",
     "text": [
      "[[1 0 0]\n",
      " [0 1 0]\n",
      " [0 0 1]]\n"
     ]
    }
   ],
   "source": [
    "print shift_cubed"
   ]
  },
  {
   "cell_type": "markdown",
   "metadata": {},
   "source": [
    "Let us look at functions for solving linear equations."
   ]
  },
  {
   "cell_type": "code",
   "execution_count": 54,
   "metadata": {
    "collapsed": false
   },
   "outputs": [
    {
     "name": "stdout",
     "output_type": "stream",
     "text": [
      "[[ 1.35774596  1.51740506 -2.13840576]\n",
      " [ 0.67557852  0.7203102  -0.47362006]\n",
      " [-0.53569361 -1.23349909 -0.00779148]]\n"
     ]
    }
   ],
   "source": [
    "gauss_arr = np.random.randn(3, 3); print gauss_arr  # 3 x 3 random matrix"
   ]
  },
  {
   "cell_type": "code",
   "execution_count": 55,
   "metadata": {
    "collapsed": false
   },
   "outputs": [
    {
     "name": "stdout",
     "output_type": "stream",
     "text": [
      "[[-1.07436085  4.82614386  1.49662052]\n",
      " [ 0.47173012 -2.10585227 -1.46012365]\n",
      " [-0.81504805  1.56997634 -0.08584365]]\n"
     ]
    }
   ],
   "source": [
    "gauss_arr_inv = LA.inv(gauss_arr); print gauss_arr_inv  # compute its inverse"
   ]
  },
  {
   "cell_type": "code",
   "execution_count": 56,
   "metadata": {
    "collapsed": false
   },
   "outputs": [
    {
     "name": "stdout",
     "output_type": "stream",
     "text": [
      "[[False False False]\n",
      " [False False False]\n",
      " [False  True False]]\n"
     ]
    }
   ],
   "source": [
    "print gauss_arr_inv.dot(gauss_arr) == np.eye(3)  # these should return all True's, right?"
   ]
  },
  {
   "cell_type": "code",
   "execution_count": 57,
   "metadata": {
    "collapsed": false
   },
   "outputs": [
    {
     "name": "stdout",
     "output_type": "stream",
     "text": [
      "True\n"
     ]
    }
   ],
   "source": [
    "print np.allclose(gauss_arr_inv.dot(gauss_arr), np.eye(3))  # check for equality within some tolerance"
   ]
  },
  {
   "cell_type": "code",
   "execution_count": 58,
   "metadata": {
    "collapsed": false
   },
   "outputs": [
    {
     "name": "stdout",
     "output_type": "stream",
     "text": [
      "[0 1 2]\n"
     ]
    }
   ],
   "source": [
    "my_vec = np.arange(3); print my_vec"
   ]
  },
  {
   "cell_type": "code",
   "execution_count": 59,
   "metadata": {
    "collapsed": false
   },
   "outputs": [],
   "source": [
    "A, b = gauss_arr, gauss_arr.dot(my_vec)  # set up a system of linear equations"
   ]
  },
  {
   "cell_type": "code",
   "execution_count": 60,
   "metadata": {
    "collapsed": false
   },
   "outputs": [
    {
     "name": "stdout",
     "output_type": "stream",
     "text": [
      "[ -1.63539139e-15   1.00000000e+00   2.00000000e+00]\n"
     ]
    }
   ],
   "source": [
    "print LA.solve(A, b)  # and solve it"
   ]
  },
  {
   "cell_type": "code",
   "execution_count": 61,
   "metadata": {
    "collapsed": false
   },
   "outputs": [
    {
     "name": "stdout",
     "output_type": "stream",
     "text": [
      "True\n"
     ]
    }
   ],
   "source": [
    "print np.allclose(my_vec, LA.solve(A, b))  # check if solution is correct"
   ]
  },
  {
   "cell_type": "code",
   "execution_count": 62,
   "metadata": {
    "collapsed": false
   },
   "outputs": [
    {
     "name": "stdout",
     "output_type": "stream",
     "text": [
      "True\n"
     ]
    }
   ],
   "source": [
    "print np.allclose(my_vec, LA.inv(A).dot(b))  # of course we could solve via inverse"
   ]
  },
  {
   "cell_type": "markdown",
   "metadata": {},
   "source": [
    "But computing inverse to solve a system of linear equations is not recommended: it is slower."
   ]
  },
  {
   "cell_type": "code",
   "execution_count": 63,
   "metadata": {
    "collapsed": false
   },
   "outputs": [],
   "source": [
    "import timeit"
   ]
  },
  {
   "cell_type": "code",
   "execution_count": 64,
   "metadata": {
    "collapsed": false
   },
   "outputs": [
    {
     "data": {
      "text/plain": [
       "1.6778178215026855"
      ]
     },
     "execution_count": 64,
     "metadata": {},
     "output_type": "execute_result"
    }
   ],
   "source": [
    "timeit.timeit('numpy.linalg.solve(A, b)',\n",
    "              'import numpy; A = numpy.random.randn(100, 100); b = A.dot(numpy.arange(100))', number=10**4)"
   ]
  },
  {
   "cell_type": "code",
   "execution_count": 65,
   "metadata": {
    "collapsed": false
   },
   "outputs": [
    {
     "data": {
      "text/plain": [
       "2.9792518615722656"
      ]
     },
     "execution_count": 65,
     "metadata": {},
     "output_type": "execute_result"
    }
   ],
   "source": [
    "timeit.timeit('numpy.linalg.inv(A).dot(b)',\n",
    "              'import numpy; A = numpy.random.randn(100, 100); b = A.dot(numpy.arange(100))', number=10**4)"
   ]
  },
  {
   "cell_type": "code",
   "execution_count": 66,
   "metadata": {
    "collapsed": false
   },
   "outputs": [
    {
     "name": "stdout",
     "output_type": "stream",
     "text": [
      "[ 1.          0.5         0.33333333]\n"
     ]
    }
   ],
   "source": [
    "p = 3  # number of parameters\n",
    "beta_star = 1.0 / (np.arange(p) + 1); print beta_star  # choose the parameters in a linear model"
   ]
  },
  {
   "cell_type": "code",
   "execution_count": 67,
   "metadata": {
    "collapsed": false
   },
   "outputs": [],
   "source": [
    "n = 15  # no. of iid samples\n",
    "X = np.random.randn(15, 3)  # covariates are iid gausssians, n = 10"
   ]
  },
  {
   "cell_type": "code",
   "execution_count": 68,
   "metadata": {
    "collapsed": false
   },
   "outputs": [
    {
     "name": "stdout",
     "output_type": "stream",
     "text": [
      "[-1.72404544 -0.29992334  0.50871671 -1.08435593 -1.24036359 -0.45439872\n",
      " -0.66976543 -0.53414116 -0.12959675  0.39529946  1.27934105 -1.4021718\n",
      "  1.15791082  0.70540931  1.02349763]\n"
     ]
    }
   ],
   "source": [
    "y = X.dot(beta_star) + .1*np.random.randn(n); print y  # y = X * beta_star + noise"
   ]
  },
  {
   "cell_type": "code",
   "execution_count": 69,
   "metadata": {
    "collapsed": false
   },
   "outputs": [
    {
     "name": "stdout",
     "output_type": "stream",
     "text": [
      "[ 1.06131117  0.46729599  0.39026741]\n"
     ]
    }
   ],
   "source": [
    "beta_hat = LA.lstsq(X, y)[0]; print beta_hat  # lstsq returns a 4-tuple first of which is the solution"
   ]
  },
  {
   "cell_type": "markdown",
   "metadata": {},
   "source": [
    "Let us now do a QR decomposition. Recall that the QR decomposition of a matrix $A$ gives two matrices $Q$ and $R$ such that:\n",
    "\n",
    "* $A = QR$\n",
    "* $Q$ is orthogonal ($Q^T Q = I$)\n",
    "* $R$ is upper triangular"
   ]
  },
  {
   "cell_type": "code",
   "execution_count": 70,
   "metadata": {
    "collapsed": false
   },
   "outputs": [],
   "source": [
    "q, r = LA.qr(gauss_arr)"
   ]
  },
  {
   "cell_type": "code",
   "execution_count": 71,
   "metadata": {
    "collapsed": false
   },
   "outputs": [
    {
     "data": {
      "text/plain": [
       "True"
      ]
     },
     "execution_count": 71,
     "metadata": {},
     "output_type": "execute_result"
    }
   ],
   "source": [
    "np.allclose(q.dot(r), gauss_arr)"
   ]
  },
  {
   "cell_type": "code",
   "execution_count": 72,
   "metadata": {
    "collapsed": false
   },
   "outputs": [
    {
     "data": {
      "text/plain": [
       "True"
      ]
     },
     "execution_count": 72,
     "metadata": {},
     "output_type": "execute_result"
    }
   ],
   "source": [
    "np.allclose(q.T.dot(q), np.eye(3))  # check q^T q = I"
   ]
  },
  {
   "cell_type": "code",
   "execution_count": 73,
   "metadata": {
    "collapsed": false
   },
   "outputs": [
    {
     "name": "stdout",
     "output_type": "stream",
     "text": [
      "[[-1.60836814 -1.99435327  2.00153522]\n",
      " [ 0.          0.60451627  0.68715772]\n",
      " [ 0.          0.         -0.56464759]]\n"
     ]
    }
   ],
   "source": [
    "print r  # upper triangular"
   ]
  },
  {
   "cell_type": "code",
   "execution_count": 74,
   "metadata": {
    "collapsed": false
   },
   "outputs": [
    {
     "name": "stdout",
     "output_type": "stream",
     "text": [
      "[[-1  0  0]\n",
      " [ 0  0  0]\n",
      " [ 0  0  1]]\n"
     ]
    }
   ],
   "source": [
    "evals = np.diag(np.arange(-1, 2)); print evals  # np.diag puts a 1-d array on the diagonal or extracts the diag"
   ]
  },
  {
   "cell_type": "code",
   "execution_count": 75,
   "metadata": {
    "collapsed": false
   },
   "outputs": [],
   "source": [
    "my_arr = q.dot(evals).dot(q.T)  # my_arr = q evals q^T"
   ]
  },
  {
   "cell_type": "code",
   "execution_count": 76,
   "metadata": {
    "collapsed": false
   },
   "outputs": [],
   "source": [
    "w, v = LA.eigh(my_arr)  # eigh computes eigenvalues/vectors of symmetric (Hermitian) matrices"
   ]
  },
  {
   "cell_type": "code",
   "execution_count": 77,
   "metadata": {
    "collapsed": false
   },
   "outputs": [
    {
     "name": "stdout",
     "output_type": "stream",
     "text": [
      "[ -1.00000000e+00  -1.25227943e-17   1.00000000e+00]\n"
     ]
    }
   ],
   "source": [
    "print w  # very close to [-1, 0, 1]"
   ]
  },
  {
   "cell_type": "code",
   "execution_count": 78,
   "metadata": {
    "collapsed": false
   },
   "outputs": [
    {
     "data": {
      "text/plain": [
       "True"
      ]
     },
     "execution_count": 78,
     "metadata": {},
     "output_type": "execute_result"
    }
   ],
   "source": [
    "np.allclose(w, np.arange(-1, 2))"
   ]
  },
  {
   "cell_type": "code",
   "execution_count": 79,
   "metadata": {
    "collapsed": false
   },
   "outputs": [
    {
     "name": "stdout",
     "output_type": "stream",
     "text": [
      "[[-0.84417611  0.27489803 -0.46021492]\n",
      " [-0.42003973  0.19420059  0.88648336]\n",
      " [ 0.33306654  0.94165663 -0.04847141]]\n"
     ]
    }
   ],
   "source": [
    "print v"
   ]
  },
  {
   "cell_type": "code",
   "execution_count": 80,
   "metadata": {
    "collapsed": false
   },
   "outputs": [
    {
     "name": "stdout",
     "output_type": "stream",
     "text": [
      "[[-0.84417611 -0.27489803  0.46021492]\n",
      " [-0.42003973 -0.19420059 -0.88648336]\n",
      " [ 0.33306654 -0.94165663  0.04847141]]\n"
     ]
    }
   ],
   "source": [
    "print q  # has same columns as v (up to sign flips)"
   ]
  },
  {
   "cell_type": "code",
   "execution_count": 81,
   "metadata": {
    "collapsed": false
   },
   "outputs": [],
   "source": [
    "left2 = np.random.randn(10, 2)"
   ]
  },
  {
   "cell_type": "code",
   "execution_count": 82,
   "metadata": {
    "collapsed": false
   },
   "outputs": [],
   "source": [
    "right2 = np.random.randn(15, 2)"
   ]
  },
  {
   "cell_type": "code",
   "execution_count": 83,
   "metadata": {
    "collapsed": false
   },
   "outputs": [],
   "source": [
    "low_rank = np.outer(left2[:, 0], right2[:, 0]) + np.outer(left2[:, 1], right2[:, 1])"
   ]
  },
  {
   "cell_type": "code",
   "execution_count": 84,
   "metadata": {
    "collapsed": false
   },
   "outputs": [
    {
     "data": {
      "text/plain": [
       "(10, 15)"
      ]
     },
     "execution_count": 84,
     "metadata": {},
     "output_type": "execute_result"
    }
   ],
   "source": [
    "low_rank.shape  # we have a 10 x 15 rank-2 matrix"
   ]
  },
  {
   "cell_type": "code",
   "execution_count": 85,
   "metadata": {
    "collapsed": false
   },
   "outputs": [],
   "source": [
    "low_rank_noisy = low_rank + .01*np.random.randn(10, 15)  # add some noise to each entry"
   ]
  },
  {
   "cell_type": "code",
   "execution_count": 86,
   "metadata": {
    "collapsed": false
   },
   "outputs": [
    {
     "data": {
      "text/plain": [
       "10"
      ]
     },
     "execution_count": 86,
     "metadata": {},
     "output_type": "execute_result"
    }
   ],
   "source": [
    "LA.matrix_rank(low_rank_noisy)"
   ]
  },
  {
   "cell_type": "code",
   "execution_count": 87,
   "metadata": {
    "collapsed": false
   },
   "outputs": [],
   "source": [
    "U, s, V = LA.svd(low_rank_noisy)  # compute the SVD (Singular Value Decomposition)"
   ]
  },
  {
   "cell_type": "markdown",
   "metadata": {},
   "source": [
    "Recall that the SVD of am $m \\times n$ matrix $A$ is given by $A = U \\Sigma V^T$ where:\n",
    "\n",
    "* $U$ is an $m \\times m$ orthogonal matrix\n",
    "* $V$ is an $n \\times n$ orthogonal matrix\n",
    "* $\\Sigma$ is a diagonal matrix with $\\min\\{m, n\\}$ (non-negative) singular values"
   ]
  },
  {
   "cell_type": "code",
   "execution_count": 88,
   "metadata": {
    "collapsed": false
   },
   "outputs": [
    {
     "name": "stdout",
     "output_type": "stream",
     "text": [
      "[  8.90492256e+00   7.01349502e+00   6.05692541e-02   4.28823534e-02\n",
      "   3.56422249e-02   2.78391154e-02   2.65230138e-02   1.76266258e-02\n",
      "   1.62795730e-02   7.25359008e-03]\n"
     ]
    }
   ],
   "source": [
    "print s  # we see two large singular values and 8 smaller ones"
   ]
  },
  {
   "cell_type": "markdown",
   "metadata": {},
   "source": [
    "Finally, just to clean up temporary files..."
   ]
  },
  {
   "cell_type": "code",
   "execution_count": 89,
   "metadata": {
    "collapsed": false
   },
   "outputs": [],
   "source": [
    "!rm my_array.npy three_arrays.npz two_decimals.csv two_decimals_header.csv"
   ]
  }
 ],
 "metadata": {
  "kernelspec": {
   "display_name": "Python 2",
   "language": "python",
   "name": "python2"
  },
  "language_info": {
   "codemirror_mode": {
    "name": "ipython",
    "version": 2
   },
   "file_extension": ".py",
   "mimetype": "text/x-python",
   "name": "python",
   "nbconvert_exporter": "python",
   "pygments_lexer": "ipython2",
   "version": "2.7.10"
  }
 },
 "nbformat": 4,
 "nbformat_minor": 0
}
